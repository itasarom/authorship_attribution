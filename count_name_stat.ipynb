{
 "cells": [
  {
   "cell_type": "code",
   "execution_count": 1,
   "metadata": {},
   "outputs": [],
   "source": [
    "import pandas as pd\n",
    "import numpy as np\n",
    "import ast\n",
    "import tokenize as tokenize_module\n",
    "import io\n",
    "\n",
    "import matplotlib.pyplot as plt\n",
    "import seaborn as sns\n",
    "\n",
    "%matplotlib inline\n",
    "%load_ext autoreload\n",
    "%autoreload 2"
   ]
  },
  {
   "cell_type": "code",
   "execution_count": 2,
   "metadata": {},
   "outputs": [],
   "source": [
    "import train"
   ]
  },
  {
   "cell_type": "code",
   "execution_count": 3,
   "metadata": {},
   "outputs": [
    {
     "name": "stdout",
     "output_type": "stream",
     "text": [
      "../CodeStylometry/Corpus/temp/codejamfolder/py/smartek0/p2463486.smartek0.py\n",
      "'utf-8' codec can't decode byte 0xfc in position 111: invalid start byte\n",
      "../CodeStylometry/Corpus/temp/codejamfolder/py/RedApe0/p1481486.RedApe0.py\n",
      "'utf-8' codec can't decode byte 0xee in position 1204: invalid continuation byte\n",
      "../CodeStylometry/Corpus/temp/codejamfolder/py/RedApe0/p1485488.RedApe0.py\n",
      "'utf-8' codec can't decode byte 0xea in position 1289: invalid continuation byte\n",
      "../CodeStylometry/Corpus/temp/codejamfolder/py/RedApe0/p1080487.RedApe0.py\n",
      "'utf-8' codec can't decode byte 0xf2 in position 1158: invalid continuation byte\n",
      "../CodeStylometry/Corpus/temp/codejamfolder/py/RedApe0/p1590487.RedApe0.py\n",
      "'utf-8' codec can't decode byte 0xef in position 3183: invalid continuation byte\n",
      "../CodeStylometry/Corpus/temp/codejamfolder/py/RedApe0/p1480487.RedApe0.py\n",
      "'utf-8' codec can't decode byte 0xe3 in position 1306: invalid continuation byte\n",
      "../CodeStylometry/Corpus/temp/codejamfolder/py/apinzonf0/p24481.apinzonf0.py\n",
      "'utf-8' codec can't decode byte 0xf1 in position 63: invalid continuation byte\n",
      "../CodeStylometry/Corpus/temp/codejamfolder/py/apinzonf0/p24480.apinzonf0.py\n",
      "'utf-8' codec can't decode byte 0xf1 in position 63: invalid continuation byte\n",
      "../CodeStylometry/Corpus/temp/codejamfolder/py/viz0/p24480.viz0.py\n",
      "'utf-8' codec can't decode byte 0xc1 in position 46: invalid start byte\n",
      "../CodeStylometry/Corpus/temp/codejamfolder/py/viz0/p24486.viz0.py\n",
      "'utf-8' codec can't decode byte 0xc1 in position 59: invalid start byte\n",
      "../CodeStylometry/Corpus/temp/codejamfolder/py/74th0/p1026487.74th0.py\n",
      "'utf-8' codec can't decode byte 0xb2 in position 337: invalid start byte\n",
      "../CodeStylometry/Corpus/temp/codejamfolder/py/74th0/p1080487.74th0.py\n",
      "'utf-8' codec can't decode byte 0xba in position 785: invalid start byte\n",
      "../CodeStylometry/Corpus/temp/codejamfolder/py/74th0/p1059486.74th0.py\n",
      "'utf-8' codec can't decode byte 0xb2 in position 336: invalid start byte\n",
      "../CodeStylometry/Corpus/temp/codejamfolder/py/ipknHama0/p24481.ipknHama0.py\n",
      "'utf-8' codec can't decode byte 0xb9 in position 77: invalid start byte\n",
      "../CodeStylometry/Corpus/temp/codejamfolder/py/imakaramegane0/p2453486.imakaramegane0.py\n",
      "'utf-8' codec can't decode byte 0x89 in position 615: invalid start byte\n",
      "../CodeStylometry/Corpus/temp/codejamfolder/py/oonishi0/p2453486.oonishi0.py\n",
      "'utf-8' codec can't decode byte 0x89 in position 314: invalid start byte\n",
      "../CodeStylometry/Corpus/temp/codejamfolder/py/tc.0/p1026487.tc.0.py\n",
      "'utf-8' codec can't decode byte 0xa9 in position 45: invalid start byte\n",
      "../CodeStylometry/Corpus/temp/codejamfolder/py/tc.0/p1059486.tc.0.py\n",
      "'utf-8' codec can't decode byte 0xa9 in position 45: invalid start byte\n",
      "../CodeStylometry/Corpus/temp/codejamfolder/py/tc.0/p992486.tc.0.py\n",
      "'utf-8' codec can't decode byte 0xa9 in position 45: invalid start byte\n",
      "../CodeStylometry/Corpus/temp/codejamfolder/py/tc.0/p1040487.tc.0.py\n",
      "'utf-8' codec can't decode byte 0xa9 in position 54: invalid start byte\n",
      "../CodeStylometry/Corpus/temp/codejamfolder/py/tc.0/p1062486.tc.0.py\n",
      "'utf-8' codec can't decode byte 0xa9 in position 54: invalid start byte\n",
      "../CodeStylometry/Corpus/temp/codejamfolder/py/tc.0/p1080487.tc.0.py\n",
      "'utf-8' codec can't decode byte 0xa9 in position 45: invalid start byte\n",
      "../CodeStylometry/Corpus/temp/codejamfolder/py/tc.0/p1048486.tc.0.py\n",
      "'utf-8' codec can't decode byte 0xa9 in position 54: invalid start byte\n",
      "../CodeStylometry/Corpus/temp/codejamfolder/py/tc.0/p1058489.tc.0.py\n",
      "'utf-8' codec can't decode byte 0xa9 in position 54: invalid start byte\n",
      "../CodeStylometry/Corpus/temp/codejamfolder/py/seiya0/p2449486.seiya0.py\n",
      "'utf-8' codec can't decode byte 0x89 in position 209: invalid start byte\n",
      "../CodeStylometry/Corpus/temp/codejamfolder/py/seiya0/p2453486.seiya0.py\n",
      "'utf-8' codec can't decode byte 0x89 in position 170: invalid start byte\n",
      "../CodeStylometry/Corpus/temp/codejamfolder/py/Pena860/p5690574640250880.Pena860.py\n",
      "'utf-8' codec can't decode byte 0xe4 in position 2319: invalid continuation byte\n",
      "../CodeStylometry/Corpus/temp/codejamfolder/py/Lark0/p992486.Lark0.py\n",
      "'utf-8' codec can't decode byte 0xf6 in position 2082: invalid start byte\n",
      "../CodeStylometry/Corpus/temp/codejamfolder/py/Lark0/p1080487.Lark0.py\n",
      "'utf-8' codec can't decode byte 0xe4 in position 1009: invalid continuation byte\n",
      "../CodeStylometry/Corpus/temp/codejamfolder/py/Ikke0/p24481.Ikke0.py\n",
      "'utf-8' codec can't decode byte 0xe9 in position 1452: invalid continuation byte\n",
      "../CodeStylometry/Corpus/temp/codejamfolder/py/Taizo0/p5644738749267968.Taizo0.py\n",
      "'utf-8' codec can't decode byte 0x82 in position 576: invalid start byte\n",
      "../CodeStylometry/Corpus/temp/codejamfolder/py/vale.rho0/p1483485.vale.rho0.py\n",
      "'utf-8' codec can't decode byte 0xe8 in position 62: invalid continuation byte\n",
      "../CodeStylometry/Corpus/temp/codejamfolder/py/Pixinguinha0/p122101.Pixinguinha0.py\n",
      "'utf-8' codec can't decode byte 0xe9 in position 634: invalid continuation byte\n"
     ]
    }
   ],
   "source": [
    "data = train.read_all_gcj()"
   ]
  },
  {
   "cell_type": "code",
   "execution_count": 34,
   "metadata": {},
   "outputs": [],
   "source": [
    "import io\n",
    "import token as token_module\n",
    "import keyword\n",
    "def tokenize(code):\n",
    "    \n",
    "    code = io.StringIO(code)\n",
    "    res = tokenize_module.tokenize(lambda:code.readline().encode('utf-8'))\n",
    "    \n",
    "    return list(res)"
   ]
  },
  {
   "cell_type": "code",
   "execution_count": 6,
   "metadata": {},
   "outputs": [],
   "source": [
    "from collections import Counter, defaultdict"
   ]
  },
  {
   "cell_type": "code",
   "execution_count": 36,
   "metadata": {},
   "outputs": [],
   "source": [
    "def get_all_names(data):\n",
    "    result = Counter()\n",
    "    keywords_set = keyword.kwlist\n",
    "    for solutions in data.values():\n",
    "        for code in solutions.values():\n",
    "            try:\n",
    "                for token in tokenize(code):\n",
    "                    if token.type == token_module.NAME and token.string not in keywords_set:\n",
    "                        result[token.string] += 1\n",
    "            except Exception as e:\n",
    "                print(e)\n",
    "#                 print(code)\n",
    "#                 print(\"\\n\\n-------------------------\")\n",
    "    return result"
   ]
  },
  {
   "cell_type": "code",
   "execution_count": 37,
   "metadata": {},
   "outputs": [
    {
     "name": "stdout",
     "output_type": "stream",
     "text": [
      "('EOF in multi-line statement', (8, 0))\n",
      "('EOF in multi-line statement', (18, 0))\n",
      "('EOF in multi-line statement', (51, 0))\n",
      "unindent does not match any outer indentation level (<tokenize>, line 105)\n",
      "('EOF in multi-line statement', (22, 0))\n",
      "('EOF in multi-line statement', (615, 0))\n",
      "unindent does not match any outer indentation level (<tokenize>, line 70)\n",
      "('EOF in multi-line statement', (249, 0))\n",
      "unindent does not match any outer indentation level (<tokenize>, line 98)\n",
      "unindent does not match any outer indentation level (<tokenize>, line 27)\n"
     ]
    }
   ],
   "source": [
    "# res = get_all_names({'Diego0':data['Diego0']})\n",
    "res = get_all_names(data)"
   ]
  },
  {
   "cell_type": "code",
   "execution_count": 38,
   "metadata": {},
   "outputs": [
    {
     "data": {
      "text/plain": [
       "118072"
      ]
     },
     "execution_count": 38,
     "metadata": {},
     "output_type": "execute_result"
    }
   ],
   "source": [
    "len(res)"
   ]
  },
  {
   "cell_type": "code",
   "execution_count": 62,
   "metadata": {},
   "outputs": [],
   "source": [
    "import pickle"
   ]
  },
  {
   "cell_type": "code",
   "execution_count": 63,
   "metadata": {},
   "outputs": [],
   "source": [
    "# pickle.dump(res.most_common(500), open(\"most_common_names.pkl\", \"wb\"))"
   ]
  },
  {
   "cell_type": "code",
   "execution_count": 64,
   "metadata": {},
   "outputs": [],
   "source": [
    "import ast"
   ]
  },
  {
   "cell_type": "code",
   "execution_count": 68,
   "metadata": {},
   "outputs": [],
   "source": [
    "code = \"\"\"\n",
    "a = x.y.z(a=b)\n",
    "\"\"\""
   ]
  },
  {
   "cell_type": "code",
   "execution_count": 69,
   "metadata": {},
   "outputs": [
    {
     "data": {
      "text/plain": [
       "\"Module(body=[Assign(targets=[Name(id='a', ctx=Store())], value=Call(func=Attribute(value=Attribute(value=Name(id='x', ctx=Load()), attr='y', ctx=Load()), attr='z', ctx=Load()), args=[], keywords=[keyword(arg='a', value=Name(id='b', ctx=Load()))]))])\""
      ]
     },
     "execution_count": 69,
     "metadata": {},
     "output_type": "execute_result"
    }
   ],
   "source": [
    "ast.dump(ast.parse(code))"
   ]
  },
  {
   "cell_type": "code",
   "execution_count": null,
   "metadata": {},
   "outputs": [],
   "source": []
  }
 ],
 "metadata": {
  "kernelspec": {
   "display_name": "torch",
   "language": "python",
   "name": "torch"
  },
  "language_info": {
   "codemirror_mode": {
    "name": "ipython",
    "version": 3
   },
   "file_extension": ".py",
   "mimetype": "text/x-python",
   "name": "python",
   "nbconvert_exporter": "python",
   "pygments_lexer": "ipython3",
   "version": "3.5.2"
  }
 },
 "nbformat": 4,
 "nbformat_minor": 2
}
