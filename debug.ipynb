{
 "cells": [
  {
   "cell_type": "code",
   "execution_count": 1,
   "metadata": {
    "collapsed": true
   },
   "outputs": [],
   "source": [
    "import torch\n",
    "import numpy as np\n",
    "\n",
    "import ast\n",
    "%load_ext autoreload\n",
    "%autoreload 2"
   ]
  },
  {
   "cell_type": "code",
   "execution_count": 2,
   "metadata": {
    "collapsed": true
   },
   "outputs": [],
   "source": [
    "import model\n",
    "import train"
   ]
  },
  {
   "cell_type": "code",
   "execution_count": 110,
   "metadata": {
    "collapsed": true
   },
   "outputs": [],
   "source": [
    "# and handle in {'Kirillov_Alexey', 'Mad_Andrei'}"
   ]
  },
  {
   "cell_type": "code",
   "execution_count": 209,
   "metadata": {
    "collapsed": false
   },
   "outputs": [],
   "source": [
    "data = train.read_all()\n",
    "data = {handle:result_for_handle for handle, result_for_handle in data.items() if len(result_for_handle) >= 15}"
   ]
  },
  {
   "cell_type": "code",
   "execution_count": 210,
   "metadata": {
    "collapsed": true
   },
   "outputs": [],
   "source": [
    "common_problems = ['935:A [Fafa and his Company].py',\n",
    " '935:B [Fafa and the Gates].py',\n",
    " '935:C [Fifa and Fafa].py',\n",
    " '937:A [Olympiad].py',\n",
    " '938:A [Word Correction].py',\n",
    " '938:B [Run For Your Prize].py',\n",
    " '950:A [Left-handers, Right-handers and Ambidexters].py']\n",
    "\n",
    "\n",
    "common_problems = ['950:A [Left-handers, Right-handers and Ambidexters].py',\n",
    " '931:A [Friends Meeting].py',\n",
    " '935:A [Fafa and his Company].py',\n",
    " '935:B [Fafa and the Gates].py',\n",
    " '937:A [Olympiad].py',\n",
    " '932:A [Palindromic Supersequence].py',\n",
    " '938:A [Word Correction].py',\n",
    " '950:B [Intercepted Message].py',\n",
    " '931:B [World Cup].py',\n",
    " '935:C [Fifa and Fafa].py',\n",
    " '946:C [String Transformation].py',\n",
    " '934:B [A Prosperous Lot].py',\n",
    " '939:A [Love Triangle].py',\n",
    " '934:A [A Compatible Pair].py',\n",
    " '940:B [Our Tanya is Crying Out Loud].py']"
   ]
  },
  {
   "cell_type": "code",
   "execution_count": 214,
   "metadata": {
    "collapsed": true
   },
   "outputs": [],
   "source": [
    "train_size = 10\n",
    "train_problems = common_problems[:train_size]\n",
    "test_problems = common_problems[train_size:]"
   ]
  },
  {
   "cell_type": "code",
   "execution_count": 215,
   "metadata": {
    "collapsed": false
   },
   "outputs": [
    {
     "data": {
      "text/plain": [
       "['950:A [Left-handers, Right-handers and Ambidexters].py',\n",
       " '931:A [Friends Meeting].py',\n",
       " '935:A [Fafa and his Company].py',\n",
       " '935:B [Fafa and the Gates].py',\n",
       " '937:A [Olympiad].py',\n",
       " '932:A [Palindromic Supersequence].py',\n",
       " '938:A [Word Correction].py',\n",
       " '950:B [Intercepted Message].py',\n",
       " '931:B [World Cup].py',\n",
       " '935:C [Fifa and Fafa].py']"
      ]
     },
     "execution_count": 215,
     "metadata": {},
     "output_type": "execute_result"
    }
   ],
   "source": [
    "train_problems"
   ]
  },
  {
   "cell_type": "code",
   "execution_count": 216,
   "metadata": {
    "collapsed": false
   },
   "outputs": [],
   "source": [
    "for handle, result_for_handle in data.items():\n",
    "    current = {}\n",
    "    for problem, solution in result_for_handle.items():\n",
    "        if problem in common_problems:\n",
    "            current[problem] = solution\n",
    "    \n",
    "    data[handle] = current"
   ]
  },
  {
   "cell_type": "code",
   "execution_count": 217,
   "metadata": {
    "collapsed": false
   },
   "outputs": [
    {
     "data": {
      "text/plain": [
       "dict_keys(['Mad_Andrei', 'nkorobkov', 'Kirillov_Alexey', 'KPACAB4UK', 'Orion', '_Alex_', 'mtarunsai1999', 'DASmirnov', 'denny_sem'])"
      ]
     },
     "execution_count": 217,
     "metadata": {},
     "output_type": "execute_result"
    }
   ],
   "source": [
    "data.keys()"
   ]
  },
  {
   "cell_type": "code",
   "execution_count": 218,
   "metadata": {
    "collapsed": false
   },
   "outputs": [],
   "source": [
    "# code = \"\"\"\n",
    "# x = 10\n",
    "# y = 12\n",
    "# x += y\n",
    "# \"\"\"\n",
    "\n",
    "# parsed = ast.parse(code)"
   ]
  },
  {
   "cell_type": "code",
   "execution_count": 219,
   "metadata": {
    "collapsed": false
   },
   "outputs": [],
   "source": [
    "# for node in ast.walk(parsed):\n",
    "#     print(node)"
   ]
  },
  {
   "cell_type": "code",
   "execution_count": 220,
   "metadata": {
    "collapsed": false
   },
   "outputs": [],
   "source": [
    "# cls.ast_encoder(parsed)"
   ]
  },
  {
   "cell_type": "code",
   "execution_count": 230,
   "metadata": {
    "collapsed": false
   },
   "outputs": [],
   "source": [
    "batch_sampler = train.NameBatcher(data,64, train_problems, test_problems)"
   ]
  },
  {
   "cell_type": "code",
   "execution_count": 231,
   "metadata": {
    "collapsed": true
   },
   "outputs": [],
   "source": [
    "# batch_sampler.x[0] = \"x\""
   ]
  },
  {
   "cell_type": "code",
   "execution_count": 232,
   "metadata": {
    "collapsed": true
   },
   "outputs": [],
   "source": [
    "# batch_sampler.x[1] = \"x += 11\""
   ]
  },
  {
   "cell_type": "code",
   "execution_count": 224,
   "metadata": {
    "collapsed": false
   },
   "outputs": [],
   "source": [
    "cls = model.Model(batch_sampler.get_n_classes())"
   ]
  },
  {
   "cell_type": "code",
   "execution_count": 225,
   "metadata": {
    "collapsed": false
   },
   "outputs": [],
   "source": [
    "trainer = train.Trainer(cls, torch.nn.CrossEntropyLoss(), torch.optim.SGD(cls.parameters(), lr=0.1, momentum=0.9))"
   ]
  },
  {
   "cell_type": "code",
   "execution_count": 226,
   "metadata": {
    "collapsed": false
   },
   "outputs": [],
   "source": [
    "# print(batch_sampler.x[0])"
   ]
  },
  {
   "cell_type": "code",
   "execution_count": 227,
   "metadata": {
    "collapsed": false
   },
   "outputs": [],
   "source": [
    "# print(batch_sampler.x[1])"
   ]
  },
  {
   "cell_type": "code",
   "execution_count": 229,
   "metadata": {
    "collapsed": false,
    "scrolled": true
   },
   "outputs": [
    {
     "data": {
      "image/png": "[encoded data removed]",
      "text/plain": [
       "<matplotlib.figure.Figure at 0x7f000404bfd0>"
      ]
     },
     "metadata": {},
     "output_type": "display_data"
    },
    {
     "data": {
      "image/png": "[encoded data removed]",
      "text/plain": [
       "<matplotlib.figure.Figure at 0x7f000c450e48>"
      ]
     },
     "metadata": {},
     "output_type": "display_data"
    },
    {
     "name": "stdout",
     "output_type": "stream",
     "text": [
      "0.0012398438\n",
      "0.9264705882352942\n",
      "0.11538461538461539\n"
     ]
    }
   ],
   "source": [
    "trainer.train(batch_sampler, {\"n_epochs\":100})"
   ]
  },
  {
   "cell_type": "code",
   "execution_count": 93,
   "metadata": {
    "collapsed": false
   },
   "outputs": [
    {
     "data": {
      "text/plain": [
       "2"
      ]
     },
     "execution_count": 93,
     "metadata": {},
     "output_type": "execute_result"
    }
   ],
   "source": [
    "batch_sampler.get_n_classes()"
   ]
  },
  {
   "cell_type": "code",
   "execution_count": 94,
   "metadata": {
    "collapsed": false
   },
   "outputs": [
    {
     "name": "stdout",
     "output_type": "stream",
     "text": [
      "ast_encoder.subtree_network.weight_ih\n",
      "ast_encoder.subtree_network.weight_hh\n",
      "ast_encoder.subtree_network.bias_ih\n",
      "ast_encoder.subtree_network.bias_hh\n",
      "ast_encoder.embedding_network.0.weight\n",
      "ast_encoder.embedding_network.0.bias\n",
      "ast_encoder.embedding_network.2.weight\n",
      "ast_encoder.embedding_network.2.bias\n",
      "ast_encoder.embedding_layer.weight\n",
      "softmax_head.0.weight\n",
      "softmax_head.0.bias\n",
      "softmax_head.2.weight\n",
      "softmax_head.2.bias\n"
     ]
    }
   ],
   "source": [
    "for i in cls.state_dict():\n",
    "    print(i)"
   ]
  },
  {
   "cell_type": "code",
   "execution_count": null,
   "metadata": {
    "collapsed": false
   },
   "outputs": [],
   "source": []
  },
  {
   "cell_type": "code",
   "execution_count": null,
   "metadata": {
    "collapsed": true
   },
   "outputs": [],
   "source": []
  }
 ],
 "metadata": {
  "kernelspec": {
   "display_name": "torch",
   "language": "python",
   "name": "torch"
  }
 },
 "nbformat": 4,
 "nbformat_minor": 2
}
